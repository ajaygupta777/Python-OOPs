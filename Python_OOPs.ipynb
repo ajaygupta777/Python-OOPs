{
  "nbformat": 4,
  "nbformat_minor": 0,
  "metadata": {
    "colab": {
      "provenance": [],
      "authorship_tag": "ABX9TyM6O77RAi/R1W+1UBir70QB",
      "include_colab_link": true
    },
    "kernelspec": {
      "name": "python3",
      "display_name": "Python 3"
    },
    "language_info": {
      "name": "python"
    }
  },
  "cells": [
    {
      "cell_type": "markdown",
      "metadata": {
        "id": "view-in-github",
        "colab_type": "text"
      },
      "source": [
        "<a href=\"https://colab.research.google.com/github/ajaygupta777/Python-OOPs/blob/main/Python_OOPs.ipynb\" target=\"_parent\"><img src=\"https://colab.research.google.com/assets/colab-badge.svg\" alt=\"Open In Colab\"/></a>"
      ]
    },
    {
      "cell_type": "markdown",
      "source": [
        "Name : Ajay Kumar Gupta"
      ],
      "metadata": {
        "id": "IvYvclXWbjbn"
      }
    },
    {
      "cell_type": "markdown",
      "source": [
        "Assignment 4: Python OOPs"
      ],
      "metadata": {
        "id": "mwXgM8fIbn4h"
      }
    },
    {
      "cell_type": "markdown",
      "source": [
        "Theory Qyestions"
      ],
      "metadata": {
        "id": "tgGIk92Pb1ym"
      }
    },
    {
      "cell_type": "markdown",
      "source": [
        "1. What is Object-Oriented Programming (OOP)?\n",
        "- Object-Oriented Programming (OOP) is a programming model organized around objects and data rather than actions and logic. It's based on the concept of objects, which can contain data (attributes) and code (methods). This approach makes programs more organized, reusable, and easier to maintain.\n",
        "\n",
        "- Think of it this way:\n",
        "\n",
        "Imagine a car. In OOP terms, the car would be an object. This car object would have:\n",
        "\n",
        "- Data (Attributes): color, model, make, speed, etc.\n",
        "- Code (Methods): start(), accelerate(), brake(), turn(), etc.\n"
      ],
      "metadata": {
        "id": "qTopbsCYb_q5"
      }
    },
    {
      "cell_type": "markdown",
      "source": [
        "2. What is a class in OOP?\n",
        "- In object-oriented programming, a class is a blueprint or template for creating objects. It defines the structure and behavior of objects, which are instances of the class. A class specifies the data that an object of that class can hold (attributes) and the actions that it can perform (methods)."
      ],
      "metadata": {
        "id": "LLIHvQtdcfO8"
      }
    },
    {
      "cell_type": "markdown",
      "source": [
        "3.  What is an object in OOP?\n",
        "- In object-oriented programming, an object is an instance of a class. It's a concrete entity with specific characteristics (attributes) and actions (methods) defined by the class. Think of it like a real-world object, such as a car, a dog, or a person, which has its own unique properties and behaviors.\n",
        "\n",
        "- Key points:\n",
        "\n",
        "- Objects are created from classes.\n",
        "- Objects have their own state (attributes) and behavior (methods).\n",
        "- Objects can interact with each other.\n"
      ],
      "metadata": {
        "id": "0RsvRyQ7chQX"
      }
    },
    {
      "cell_type": "markdown",
      "source": [
        "4. What is the difference between abstraction and encapsulation?\n",
        "- Both abstraction and encapsulation are important concepts in object-oriented programming, but they serve different purposes -\n",
        "\n",
        "- Abstraction hides complexity by showing only essential information to the user, like a car's steering wheel hiding the steering mechanism.\n",
        "\n",
        "- Encapsulation bundles data and methods within a class, protecting data integrity, like a capsule protecting medicine inside.\n",
        "\n",
        "- In essence: Abstraction focuses on what an object does, while encapsulation focuses on how it does it and keeps data safe.\n"
      ],
      "metadata": {
        "id": "4ORt5BMNcoxn"
      }
    },
    {
      "cell_type": "markdown",
      "source": [
        "5. What are dunder methods in Python?\n",
        "- In Python, dunder methods (also known as special methods or magic methods) are methods with double underscores () before and after their names. They are predefined methods that allow you to customize the behavior of your classes. They are used to override operators and built-in functions. For instance, instead of writing len(obj) to determine an object's length, you can define a `len__dunder method within the class, which is automatically called whenlen()` is used with an object of that class.\n",
        "\n",
        "- Here are some examples of common dunder methods and their uses:\n",
        "\n",
        "- __init__(self, ...): The constructor, called when an object is created. Used to initialize the object's attributes.\n",
        "- __str__(self): Returns a string representation of the object, used by print() and str().\n",
        "- __repr__(self): Returns an unambiguous string representation of the object, used by repr().\n",
        "- __len__(self): Returns the length of the object, used by len().\n",
        "- __add__(self, other): Defines the behavior of the + operator when used with objects of the class.\n",
        "- __eq__(self, other): Defines the behavior of the == operator when used with objects of the class."
      ],
      "metadata": {
        "id": "H7R3oCOcctwG"
      }
    },
    {
      "cell_type": "markdown",
      "source": [
        "6. Explain the concept of inheritance in OOP.\n",
        "- Inheritance is one of the fundamental concepts in object-oriented programming. It allows you to create new classes (called derived classes or subclasses) that inherit properties and behaviors from existing classes (called base classes or superclasses). This promotes code reusability and reduces redundancy.\n",
        "\n",
        "- Key concepts:\n",
        "\n",
        "- Base class (Superclass): The parent class from which properties and behaviors are inherited.\n",
        "- Derived class (Subclass): The child class that inherits from the base class.\n",
        "- Inheritance: The process of creating a derived class from a base class.\n",
        "\n",
        "- Types of inheritance:\n",
        "\n",
        "- Single inheritance: A class inherits from only one base class.\n",
        "- Multiple inheritance: A class inherits from multiple base classes.\n",
        "- Multilevel inheritance: A class inherits from a derived class, which in turn inherits from another base class."
      ],
      "metadata": {
        "id": "rnWnZiT8c1oA"
      }
    },
    {
      "cell_type": "markdown",
      "source": [
        "7. What is polymorphism in OOP?\n",
        "- Polymorphism, meaning \"many forms,\" is a fundamental concept in object-oriented programming. It allows objects of different classes to be treated as objects of a common type. This means that you can use the same method call on objects of different classes, and they will respond differently based on their individual implementations.\n",
        "\n",
        "- Key benefits of polymorphism:\n",
        "\n",
        "- Flexibility: Write code that can work with objects of various types without needing to know their specific class.\n",
        "- Maintainability: Easily add new types of objects without modifying existing code.\n",
        "- Code reusability: Reduce code duplication by using common interfaces for different objects."
      ],
      "metadata": {
        "id": "n2gOK0jvc9at"
      }
    },
    {
      "cell_type": "markdown",
      "source": [
        "8. How is encapsulation achieved in Python?\n",
        "- Encapsulation in Python is primarily achieved using classes and objects, along with a naming convention for access control. By using private attributes (with double underscores) and providing getter/setter methods, you can control access to an object's internal data, protecting its integrity. This promotes code organization and flexibility.\n"
      ],
      "metadata": {
        "id": "bzbfbGAcdCzf"
      }
    },
    {
      "cell_type": "markdown",
      "source": [
        "9. What is a constructor in Python?\n",
        "- In Python, a constructor is a special method called __init__ that is automatically executed when an object of a class is created. It is used to initialize the object's attributes with default or user-provided values.\n",
        "\n",
        "- Purpose of constructors:\n",
        "\n",
        "- Initialize object attributes: Assign values to the object's data members.\n",
        "- Prepare the object for use: Set up any necessary resources or connections.\n",
        "- Perform initial setup: Execute any code that needs to run when the object is created.\n",
        "\n",
        "- Key points:\n",
        "\n",
        "- Constructors are automatically called when an object is created.\n",
        "- They are used to initialize object attributes.\n",
        "- They can take arguments to customize the object's initial state."
      ],
      "metadata": {
        "id": "oMgVcTbkdMuY"
      }
    },
    {
      "cell_type": "markdown",
      "source": [
        "10. What are class and static methods in Python?\n",
        "- Both class and static methods are special types of methods that are associated with a class rather than an instance of the class. They are defined using decorators: @classmethod and @staticmethod.\n",
        "\n",
        "Here's a breakdown of their differences:\n",
        "\n",
        "- Class Methods\n",
        "\n",
        "- Purpose: Class methods operate on the class itself, not on instances of the class. They can access and modify class-level attributes.\n",
        "- Decorator: @classmethod\n",
        "- First argument: cls (representing the class)\n",
        "\n",
        "- Static Methods\n",
        "\n",
        "- Purpose: Static methods are utility functions that are related to the class but don't need access to class or instance attributes. They are like regular functions but are grouped with the class for organizational purposes.\n",
        "- Decorator: @staticmethod\n",
        "- First argument: None (they don't take self or cls)\n",
        "\n",
        "- In simpler terms:\n",
        "\n",
        "- Class methods are like tools for working with the blueprint of a house (the class).\n",
        "- Static methods are like general-purpose tools that might be useful for building a house, but they don't need to know anything about the specific house plan."
      ],
      "metadata": {
        "id": "9CzEjLr2dbxq"
      }
    },
    {
      "cell_type": "markdown",
      "source": [
        "11. What is method overloading in Python?\n",
        "- Method overloading is the ability to define multiple methods with the same name but with different parameters (number or types) within the same class. While Python doesn't support method overloading in the traditional sense (like in Java or C++), you can achieve similar functionality using default arguments and variable-length arguments."
      ],
      "metadata": {
        "id": "--KCzcK2dklU"
      }
    },
    {
      "cell_type": "markdown",
      "source": [
        "12. What is method overriding in OOP?\n",
        "- Method overriding is a language feature that allows a subclass or child class to provide a specific implementation of a method that is already provided by one of its superclasses or parent classes.\n",
        "\n",
        "- How it works:\n",
        "\n",
        "- When a subclass defines a method with the same name, parameters, and return type as a method in its superclass, it is said to override the superclass's method.\n",
        "- When the overridden method is called on an object of the subclass, the subclass's implementation of the method is executed instead of the superclass's implementation."
      ],
      "metadata": {
        "id": "MXSh9DQmdtUl"
      }
    },
    {
      "cell_type": "markdown",
      "source": [
        "13. What is a property decorator in Python?\n",
        "- In Python, the property decorator is a built-in decorator that allows you to define methods that behave like attributes. It provides a way to manage attribute access by defining getter, setter, and deleter methods.\n",
        "\n",
        "- Benefits of using property decorators:\n",
        "\n",
        "- Encapsulation: You can control how attributes are accessed and modified.\n",
        "- Read-only attributes: You can create read-only attributes by defining only a getter method.\n",
        "- Computed attributes: You can define attributes whose values are computed on-the-fly.\n",
        "- Validation: You can perform validation before setting attribute values."
      ],
      "metadata": {
        "id": "RfltUAkTd4EF"
      }
    },
    {
      "cell_type": "markdown",
      "source": [
        "14. Why is polymorphism important in OOP?\n",
        "- Polymorphism allows you to write flexible and reusable code that can work with objects of different classes in a uniform way. This reduces code duplication, improves maintainability, and allows for easier extension of your programs by adding new object types without modifying existing code.\n",
        "\n",
        "- polymorphism is important in OOP because it:\n",
        "\n",
        "- Enables flexibility and reusability of code.\n",
        "- Simplifies code maintenance and extension.\n",
        "- Promotes better code organization and readability.\n",
        "- Achieves loose coupling between different parts of the code.\n",
        "- Enables more accurate modeling of real-world scenarios.\n"
      ],
      "metadata": {
        "id": "PDtdKvyTd_US"
      }
    },
    {
      "cell_type": "markdown",
      "source": [
        "15. What is an abstract class in Python?\n",
        "- n Python, an abstract class is a class that cannot be instantiated on its own. It is meant to be subclassed by other classes, which then provide concrete implementations of the abstract methods defined in the abstract class.\n",
        "\n",
        "- Key features of abstract classes:\n",
        "\n",
        "- Cannot be instantiated: You cannot create objects directly from an abstract class.\n",
        "- Contains abstract methods: Abstract methods are declared but have no implementation in the abstract class. They are meant to be implemented by concrete subclasses.\n",
        "- Enforces a common interface: Abstract classes define a common interface for all its subclasses, ensuring that they provide specific functionalities."
      ],
      "metadata": {
        "id": "TiAlitIdeQjh"
      }
    },
    {
      "cell_type": "markdown",
      "source": [
        "16. What are the advantages of OOP?\n",
        "- These advantages make OOP a powerful and widely used approach for developing complex software systems.\n",
        "\n",
        "- OOP offers advantages such as:\n",
        "\n",
        "- Increased code reusability and modularity: Objects created for one program can be reused in other programs.\n",
        "- Improved code maintainability: Objects are self-contained, making it easier to update or fix code without affecting other parts of the program.\n",
        "- Increased code flexibility: Polymorphism allows objects to take on multiple forms, increasing code flexibility.\n",
        "- Improved security: Encapsulation protects data within objects, improving security.\n",
        "- Better problem solving: OOP allows you to break down complex problems into smaller, more manageable objects, making problem-solving easier.\n"
      ],
      "metadata": {
        "id": "3ifNJWREeVya"
      }
    },
    {
      "cell_type": "markdown",
      "source": [
        "17. What is the difference between a class variable and an instance variable?\n",
        "- Class Variables:\n",
        "\n",
        "- Definition: Class variables are declared within the class but outside of any methods. They are shared by all instances (objects) of the class.\n",
        "- Access: Class variables can be accessed using the class name or any instance of the class.\n",
        "- Modification: Modifying a class variable using the class name affects all instances of the class. Modifying it using an instance affects only that instance (creates a new instance variable).\n",
        "- Purpose: Used to store data that is common to all instances of the class, such as configuration settings or counters.\n",
        "\n",
        "- Instance Variables:\n",
        "\n",
        "- Definition: Instance variables are declared inside the constructor (__init__) or other methods and are unique to each instance of the class.\n",
        "- Access: Instance variables can be accessed using the instance of the class.\n",
        "- Modification: Modifying an instance variable affects only that instance.\n",
        "- Purpose: Used to store data that is specific to each instance, such as the name or age of a person.\n"
      ],
      "metadata": {
        "id": "ffF2XvAaethS"
      }
    },
    {
      "cell_type": "markdown",
      "source": [
        "18.  What is multiple inheritance in Python?\n",
        "- Multiple inheritance in Python allows a class to inherit from multiple base classes, combining their functionalities. This can lead to code reuse and flexibility but can also introduce complexities like the \"diamond problem\" when two base classes have a method with the same name.\n",
        "\n",
        "Think of it like a child inheriting traits from both parents - they get a mix of characteristics but might also have conflicting traits (diamond problem) that need to be resolved. Use multiple inheritance carefully, considering potential challenges."
      ],
      "metadata": {
        "id": "6_WUWnMte1tp"
      }
    },
    {
      "cell_type": "markdown",
      "source": [
        "19. Explain the purpose of ‘’__str__’ and ‘__repr__’ ‘ methods in Python.\n",
        "- Both __str__ and __repr__ are special methods (also known as \"dunder\" methods) in Python that are used to represent objects as strings. However, they have different purposes and are intended for different audiences:\n",
        "\n",
        "- __str__ method\n",
        "\n",
        "- Purpose: To provide a user-friendly, informal string representation of an object. It's meant for the end-user to understand what the object is.\n",
        "- Usage: Called by the str() built-in function and used for printing objects with the print() function.\n",
        "\n",
        "- __repr__ method\n",
        "\n",
        "- Purpose: To provide an unambiguous, formal string representation of an object. It's meant for developers to debug and understand the object's internal state. Ideally, the output of __repr__ should be a valid Python expression that can be used to recreate the object.\n",
        "- Usage: Called by the repr() built-in function and used in interactive sessions and debuggers."
      ],
      "metadata": {
        "id": "3HvI0hj_flNm"
      }
    },
    {
      "cell_type": "markdown",
      "source": [
        "20.  What is the significance of the ‘super()’ function in Python?\n",
        "- The super() function is used to call a method from a parent class. It's especially useful in inheritance scenarios when you want to extend the functionality of a parent class's method in a subclass.\n",
        "\n",
        "- Significance:\n",
        "\n",
        "- Avoiding Redundancy: Instead of rewriting the entire method logic in the subclass, super() allows you to reuse the parent class's method and add or modify specific parts.\n",
        "\n",
        "- Maintaining Inheritance Hierarchy: super() ensures that the parent class's method is called as part of the subclass's method, preserving the intended inheritance behavior.\n",
        "\n",
        "- Flexibility and Extensibility: When changes are made to the parent class's method, they automatically reflect in the subclass's method through super(), promoting code maintainability and extensibility.\n"
      ],
      "metadata": {
        "id": "cjd3H8KefxZ8"
      }
    },
    {
      "cell_type": "markdown",
      "source": [
        "21. What is the significance of the __del__ method in Python?\n",
        "- In Python, the __del__ method is a special method (also known as a \"destructor\") that is called when an object is about to be destroyed or garbage collected. It is used to perform cleanup actions, such as releasing resources or closing connections, before the object is removed from memory.\n",
        "\n",
        "- Significance:\n",
        "\n",
        "- Resource Management: The __del__ method allows you to release resources held by the object, such as file handles, network connections, or database cursors. This ensures that resources are properly cleaned up and prevents potential leaks or errors.\n",
        "\n",
        "- Cleanup Actions: You can use the __del__ method to perform any necessary cleanup actions before the object is destroyed. This could include closing files, deleting temporary files, or notifying other objects about the object's destruction.\n",
        "\n",
        "- Object Lifecycle Management: The __del__ method provides a way to manage the lifecycle of an object and ensure that it is properly disposed of when it is no longer needed."
      ],
      "metadata": {
        "id": "yWt7KHAwgD2B"
      }
    },
    {
      "cell_type": "markdown",
      "source": [
        "22. What is the difference between @staticmethod and @classmethod in Python?\n",
        "- Both @staticmethod and @classmethod are decorators used to define methods that are bound to a class rather than an instance of the class. However, they differ in how they are called and what they can access:\n",
        "\n",
        "- @staticmethod\n",
        "\n",
        "- Purpose: Define utility functions related to the class but don't need access to class or instance attributes.\n",
        "- Calling: Can be called directly on the class or an instance.\n",
        "- Access: Doesn't have access to cls (class) or self (instance).\n",
        "\n",
        "- @classmethod\n",
        "\n",
        "- Purpose: Operate on the class itself, often used for factory methods or to access/modify class-level attributes.\n",
        "- Calling: Can be called directly on the class or an instance.\n",
        "- Access: Has access to cls (class) but not self (instance).\n",
        "\n",
        "- In essence:\n",
        "\n",
        "- @staticmethod is like a regular function that happens to be grouped with a class for organizational purposes.\n",
        "- @classmethod is a method that operates on the class itself, allowing you to work with class-level attributes or create alternative constructors."
      ],
      "metadata": {
        "id": "rn3hmpqigLFL"
      }
    },
    {
      "cell_type": "markdown",
      "source": [
        "23. How does polymorphism work in Python with inheritance?\n",
        "- Polymorphism, meaning \"many forms,\" is a powerful concept in object-oriented programming that allows objects of different classes to be treated as objects of a common type. This is achieved through inheritance and method overriding.\n",
        "\n",
        "- Here's how it works:\n",
        "\n",
        "- Inheritance: A subclass inherits methods from its superclass. This establishes a relationship where the subclass can use the methods defined in the superclass.\n",
        "\n",
        "- Method Overriding: The subclass can provide its own implementation of a method that is already defined in the superclass. This is called method overriding.\n",
        "\n",
        "- Polymorphic Behavior: When a method is called on an object, Python determines the correct implementation to execute based on the object's actual class. If the object is an instance of the subclass, the overridden method in the subclass is executed. If the object is an instance of the superclass, the original method in the superclass is executed."
      ],
      "metadata": {
        "id": "IgQLzZcygRlT"
      }
    },
    {
      "cell_type": "markdown",
      "source": [
        "24.  What is method chaining in Python OOP?\n",
        "- Method chaining is a technique where you call multiple methods on an object in a single line of code, one after the other. This is achieved by having each method return the object itself (self) so that the next method can be called on the returned object.\n",
        "\n",
        "- Benefits of method chaining:\n",
        "\n",
        "- Improved Readability: Makes code more concise and easier to read by avoiding the need for intermediate variables.\n",
        "- Fluent Interface: Creates a more natural and expressive way of interacting with objects.\n",
        "- Reduced Code Duplication: Avoids repeating the object name multiple times."
      ],
      "metadata": {
        "id": "-u5j_3gJgW3-"
      }
    },
    {
      "cell_type": "markdown",
      "source": [
        "25.  What is the purpose of the __call__ method in Python?\n",
        "- In Python, the __call__ method allows you to make an object callable like a function. When you define the __call__ method in a class, you can then use instances of that class as if they were functions. This can be useful for creating objects that behave like functions or for encapsulating complex logic within an object.\n",
        "\n",
        "- Purpose:\n",
        "\n",
        "- Make Objects Callable: The primary purpose of the __call__ method is to enable objects to be called like functions. This means you can use the object's name followed by parentheses to execute the code within the __call__ method.\n",
        "- Encapsulate Logic: You can use the __call__ method to encapsulate complex logic within an object. This can make your code more organized and easier to understand.\n",
        "- Create Function-like Objects: You can create objects that behave like functions by defining the __call__ method. This can be useful for creating custom functions or for providing a more object-oriented way to represent functions."
      ],
      "metadata": {
        "id": "gXXGzcYVgucc"
      }
    },
    {
      "cell_type": "markdown",
      "source": [
        "Practical Questions"
      ],
      "metadata": {
        "id": "mhhT3oEtg11n"
      }
    },
    {
      "cell_type": "markdown",
      "source": [
        "1. Create a parent class Animal with a method speak() that prints a generic message. Create a child class Dog\n",
        "that overrides the speak() method to print \"Bark!\"."
      ],
      "metadata": {
        "id": "w4pqI6AWg7m5"
      }
    },
    {
      "source": [
        "class Animal:\n",
        "    def speak(self):\n",
        "        print(\"Generic animal sound\")\n",
        "\n",
        "class Dog(Animal):\n",
        "    def speak(self):\n",
        "        print(\"Bark!\")\n",
        "\n",
        "# Create objects of the classes\n",
        "animal = Animal()\n",
        "dog = Dog()\n",
        "\n",
        "# Call the speak method on each object\n",
        "animal.speak()  # Output: Generic animal sound\n",
        "dog.speak()    # Output: Bark!"
      ],
      "cell_type": "code",
      "metadata": {
        "colab": {
          "base_uri": "https://localhost:8080/"
        },
        "id": "1cs29hLZSJzs",
        "outputId": "43860ebe-0fda-43be-f623-4f9fe164f442"
      },
      "execution_count": 5,
      "outputs": [
        {
          "output_type": "stream",
          "name": "stdout",
          "text": [
            "Generic animal sound\n",
            "Bark!\n"
          ]
        }
      ]
    },
    {
      "cell_type": "markdown",
      "source": [
        "2. Write a program to create an abstract class Shape with a method area(). Derive classes Circle and Rectangle\n",
        "from it and implement the area() method in both."
      ],
      "metadata": {
        "id": "Fh2BSMKOPtf7"
      }
    },
    {
      "source": [
        "from abc import ABC, abstractmethod\n",
        "\n",
        "class Shape(ABC):\n",
        "    @abstractmethod\n",
        "    def area(self):\n",
        "        pass\n",
        "\n",
        "class Circle(Shape):\n",
        "    def __init__(self, radius):\n",
        "        self.radius = radius\n",
        "\n",
        "    def area(self):\n",
        "        return 3.14159 * self.radius * self.radius\n",
        "\n",
        "class Rectangle(Shape):\n",
        "    def __init__(self, length, width):\n",
        "        self.length = length\n",
        "        self.width = width\n",
        "\n",
        "    def area(self):\n",
        "        return self.length * self.width\n",
        "\n",
        "# Create objects and calculate areas\n",
        "circle = Circle(10)\n",
        "rectangle = Rectangle(5, 10)\n",
        "\n",
        "print(f\"Circle area: {circle.area()}\")  # Output: Circle area: 314.159\n",
        "print(f\"Rectangle area: {rectangle.area()}\")  # Output: Rectangle area: 50"
      ],
      "cell_type": "code",
      "metadata": {
        "colab": {
          "base_uri": "https://localhost:8080/"
        },
        "id": "ZALDFEfZTbRx",
        "outputId": "1e29ac83-94ca-499d-9f52-596d6c92288b"
      },
      "execution_count": 8,
      "outputs": [
        {
          "output_type": "stream",
          "name": "stdout",
          "text": [
            "Circle area: 314.159\n",
            "Rectangle area: 50\n"
          ]
        }
      ]
    },
    {
      "cell_type": "markdown",
      "source": [
        "3.  Implement a multi-level inheritance scenario where a class Vehicle has an attribute type. Derive a class Car\n",
        "and further derive a class ElectricCar that adds a battery attribute."
      ],
      "metadata": {
        "id": "fa4dQAQEP12B"
      }
    },
    {
      "source": [
        "class Vehicle:\n",
        "    def __init__(self, type):\n",
        "        self.type = type\n",
        "\n",
        "class Car(Vehicle):\n",
        "    def __init__(self, type, model):\n",
        "        super().__init__(type)  # Call Vehicle's __init__\n",
        "        self.model = model\n",
        "\n",
        "class ElectricCar(Car):\n",
        "    def __init__(self, type, model, battery):\n",
        "        super().__init__(type, model)  # Call Car's __init__\n",
        "        self.battery = battery\n",
        "\n",
        "# Create objects\n",
        "vehicle = Vehicle(\"Truck\")\n",
        "car = Car(\"Sedan\", \"Toyota Camry\")\n",
        "electric_car = ElectricCar(\"SUV\", \"Tesla Model X\", \"120 kWh\")\n",
        "\n",
        "# Access attributes\n",
        "print(f\"Vehicle type: {vehicle.type}\")  # Output: Vehicle type: Truck\n",
        "print(f\"Car type: {car.type}, model: {car.model}\")  # Output: Car type: Sedan, model: Toyota Camry\n",
        "print(f\"Electric car type: {electric_car.type}, model: {electric_car.model}, battery: {electric_car.battery}\")\n",
        "# Output: Electric car type: SUV, model: Tesla Model X, battery: 120 kWh"
      ],
      "cell_type": "code",
      "metadata": {
        "colab": {
          "base_uri": "https://localhost:8080/"
        },
        "id": "lJkINxHKUVFA",
        "outputId": "7e52aaab-3a67-4778-b3a1-5d4dec0ef5b5"
      },
      "execution_count": 10,
      "outputs": [
        {
          "output_type": "stream",
          "name": "stdout",
          "text": [
            "Vehicle type: Truck\n",
            "Car type: Sedan, model: Toyota Camry\n",
            "Electric car type: SUV, model: Tesla Model X, battery: 120 kWh\n"
          ]
        }
      ]
    },
    {
      "cell_type": "markdown",
      "source": [
        "4. Demonstrate polymorphism by creating a base class Bird with a method fly(). Create two derived classes\n",
        "Sparrow and Penguin that override the fly() method."
      ],
      "metadata": {
        "id": "FwCyojRKP6_v"
      }
    },
    {
      "source": [
        "class Bird:\n",
        "    def fly(self):\n",
        "        print(\"Generic bird flying\")\n",
        "\n",
        "class Sparrow(Bird):\n",
        "    def fly(self):\n",
        "        print(\"Sparrow flying\")\n",
        "\n",
        "class Penguin(Bird):\n",
        "    def fly(self):\n",
        "        print(\"Penguins can't fly, but they can swim\")\n",
        "\n",
        "# Create objects of different bird types\n",
        "generic_bird = Bird()\n",
        "sparrow = Sparrow()\n",
        "penguin = Penguin()\n",
        "\n",
        "# Demonstrate polymorphism by calling the fly method on different objects\n",
        "for bird in [generic_bird, sparrow, penguin]:\n",
        "    bird.fly()"
      ],
      "cell_type": "code",
      "metadata": {
        "colab": {
          "base_uri": "https://localhost:8080/"
        },
        "id": "t-_pMETuU667",
        "outputId": "b5c146f4-0f85-442b-b298-dfdd933740f2"
      },
      "execution_count": 11,
      "outputs": [
        {
          "output_type": "stream",
          "name": "stdout",
          "text": [
            "Generic bird flying\n",
            "Sparrow flying\n",
            "Penguins can't fly, but they can swim\n"
          ]
        }
      ]
    },
    {
      "cell_type": "markdown",
      "source": [
        "5.  Write a program to demonstrate encapsulation by creating a class BankAccount with private attributes\n",
        "balance and methods to deposit, withdraw, and check balance."
      ],
      "metadata": {
        "id": "XOBifN2QQDzG"
      }
    },
    {
      "source": [
        "class BankAccount:\n",
        "    def __init__(self, initial_balance=0):\n",
        "        self.__balance = initial_balance  # Private attribute\n",
        "\n",
        "    def deposit(self, amount):\n",
        "        if amount > 0:\n",
        "            self.__balance += amount\n",
        "            print(f\"Deposited: ${amount:.2f}\")\n",
        "        else:\n",
        "            print(\"Invalid deposit amount.\")\n",
        "\n",
        "    def withdraw(self, amount):\n",
        "        if amount > 0 and amount <= self.__balance:\n",
        "            self.__balance -= amount\n",
        "            print(f\"Withdrew: ${amount:.2f}\")\n",
        "        else:\n",
        "            print(\"Invalid withdrawal amount or insufficient balance.\")\n",
        "\n",
        "    def check_balance(self):\n",
        "        print(f\"Current balance: ${self.__balance:.2f}\")\n",
        "\n",
        "# Create an account\n",
        "account = BankAccount(1000)\n",
        "\n",
        "# Perform operations\n",
        "account.deposit(1000)\n",
        "account.withdraw(300)\n",
        "account.check_balance()\n",
        "account.withdraw(1500)  # Attempt to withdraw more than balance"
      ],
      "cell_type": "code",
      "metadata": {
        "colab": {
          "base_uri": "https://localhost:8080/"
        },
        "id": "4ljHL7TRVPuM",
        "outputId": "5fd46e3c-52e4-4ae1-971c-9e2242f582d6"
      },
      "execution_count": 14,
      "outputs": [
        {
          "output_type": "stream",
          "name": "stdout",
          "text": [
            "Deposited: $1000.00\n",
            "Withdrew: $300.00\n",
            "Current balance: $1700.00\n",
            "Withdrew: $1500.00\n"
          ]
        }
      ]
    },
    {
      "cell_type": "markdown",
      "source": [
        "6. Demonstrate runtime polymorphism using a method play() in a base class Instrument. Derive classes Guitar\n",
        "and Piano that implement their own version of play()."
      ],
      "metadata": {
        "id": "WgK_qFRpQFbw"
      }
    },
    {
      "source": [
        "class Instrument:\n",
        "    def play(self):\n",
        "        print(\"Playing a generic instrument\")\n",
        "\n",
        "class Guitar(Instrument):\n",
        "    def play(self):\n",
        "        print(\"Strumming the guitar\")\n",
        "\n",
        "class Piano(Instrument):\n",
        "    def play(self):\n",
        "        print(\"Playing the piano\")\n",
        "\n",
        "# Create objects of different instrument types\n",
        "instrument = Instrument()\n",
        "guitar = Guitar()\n",
        "piano = Piano()\n",
        "\n",
        "# Demonstrate polymorphism by calling the play method on different objects\n",
        "for instrument in [instrument, guitar, piano]:\n",
        "    instrument.play()"
      ],
      "cell_type": "code",
      "metadata": {
        "colab": {
          "base_uri": "https://localhost:8080/"
        },
        "id": "oxg-G8ILWFy3",
        "outputId": "2a87a7ad-4637-4c4e-f9a5-501ca0c95f7b"
      },
      "execution_count": 15,
      "outputs": [
        {
          "output_type": "stream",
          "name": "stdout",
          "text": [
            "Playing a generic instrument\n",
            "Strumming the guitar\n",
            "Playing the piano\n"
          ]
        }
      ]
    },
    {
      "cell_type": "markdown",
      "source": [
        "7.  Create a class MathOperations with a class method add_numbers() to add two numbers and a static\n",
        "method subtract_numbers() to subtract two numbers."
      ],
      "metadata": {
        "id": "_vQfy-p3QLxn"
      }
    },
    {
      "source": [
        "class MathOperations:\n",
        "    @classmethod\n",
        "    def add_numbers(cls, num1, num2):\n",
        "        return num1 + num2\n",
        "\n",
        "    @staticmethod\n",
        "    def subtract_numbers(num1, num2):\n",
        "        return num1 - num2\n",
        "\n",
        "# Using the class method\n",
        "result1 = MathOperations.add_numbers(6, 8)  # Output: 14\n",
        "\n",
        "# Using the static method\n",
        "result2 = MathOperations.subtract_numbers(4, 5)  # Output: -1\n",
        "\n",
        "# To see the output, add print statements\n",
        "print(result1)\n",
        "print(result2)"
      ],
      "cell_type": "code",
      "metadata": {
        "colab": {
          "base_uri": "https://localhost:8080/"
        },
        "id": "XSsIdZ09WazX",
        "outputId": "c03c3500-53e3-4eda-ae7c-27694d724f34"
      },
      "execution_count": 18,
      "outputs": [
        {
          "output_type": "stream",
          "name": "stdout",
          "text": [
            "14\n",
            "-1\n"
          ]
        }
      ]
    },
    {
      "cell_type": "markdown",
      "source": [
        "8.  Implement a class Person with a class method to count the total number of persons created."
      ],
      "metadata": {
        "id": "sEji2_pAQSKl"
      }
    },
    {
      "source": [
        "class Person:\n",
        "    count = 0  # Class variable to store the count\n",
        "\n",
        "    def __init__(self, name):\n",
        "        self.name = name\n",
        "        Person.count += 1  # Increment the count in the constructor\n",
        "\n",
        "    @classmethod\n",
        "    def get_total_persons(cls):\n",
        "        return cls.count\n",
        "\n",
        "# Create some Person objects\n",
        "person1 = Person(\"Ajay\")\n",
        "person2 = Person(\"Vijay\")\n",
        "person3 = Person(\"Satyam\")\n",
        "\n",
        "# Get the total number of persons created\n",
        "total_persons = Person.get_total_persons()\n",
        "print(f\"Total persons created: {total_persons}\")  # Output: Total persons created: 3"
      ],
      "cell_type": "code",
      "metadata": {
        "colab": {
          "base_uri": "https://localhost:8080/"
        },
        "id": "AVb5b8aQYmzW",
        "outputId": "8230ea47-6969-492d-8ad4-981d222854b2"
      },
      "execution_count": 20,
      "outputs": [
        {
          "output_type": "stream",
          "name": "stdout",
          "text": [
            "Total persons created: 3\n"
          ]
        }
      ]
    },
    {
      "cell_type": "markdown",
      "source": [
        "9. Write a class Fraction with attributes numerator and denominator. Override the str method to display the\n",
        "fraction as \"numerator/denominator\"."
      ],
      "metadata": {
        "id": "oJc3fmGMQbvl"
      }
    },
    {
      "source": [
        "class Fraction:\n",
        "    def __init__(self, numerator, denominator):\n",
        "        self.numerator = numerator\n",
        "        self.denominator = denominator\n",
        "\n",
        "    def __str__(self):\n",
        "        return f\"{self.numerator}/{self.denominator}\"\n",
        "\n",
        "# Create a Fraction object\n",
        "fraction = Fraction(8, 4)\n",
        "\n",
        "# Print the fraction (calls the __str__ method)\n",
        "print(fraction)  # Output: 8/4"
      ],
      "cell_type": "code",
      "metadata": {
        "colab": {
          "base_uri": "https://localhost:8080/"
        },
        "id": "92K1WNQXaZhH",
        "outputId": "175f5cf0-94df-4db9-a5d8-be0dcb582b36"
      },
      "execution_count": 22,
      "outputs": [
        {
          "output_type": "stream",
          "name": "stdout",
          "text": [
            "8/4\n"
          ]
        }
      ]
    },
    {
      "cell_type": "markdown",
      "source": [
        "10.  Demonstrate operator overloading by creating a class Vector and overriding the add method to add two\n",
        "vectors."
      ],
      "metadata": {
        "id": "DLyUTZdCQom2"
      }
    },
    {
      "source": [
        "class Vector:\n",
        "    def __init__(self, x, y):\n",
        "        self.x = x\n",
        "        self.y = y\n",
        "\n",
        "    def __add__(self, other):\n",
        "        return Vector(self.x + other.x, self.y + other.y)\n",
        "\n",
        "    def __str__(self):\n",
        "        return f\"({self.x}, {self.y})\"\n",
        "\n",
        "# Create two vectors\n",
        "v1 = Vector(5, 3)\n",
        "v2 = Vector(8, 9)\n",
        "\n",
        "# Add the vectors using the overloaded + operator\n",
        "v3 = v1 + v2\n",
        "\n",
        "# Print the resulting vector\n",
        "print(v3)  # Output: (13, 12)"
      ],
      "cell_type": "code",
      "metadata": {
        "colab": {
          "base_uri": "https://localhost:8080/"
        },
        "id": "mYjcM8cmaqYT",
        "outputId": "f81c6674-a3f0-4663-8574-8879aa1fafff"
      },
      "execution_count": 24,
      "outputs": [
        {
          "output_type": "stream",
          "name": "stdout",
          "text": [
            "(13, 12)\n"
          ]
        }
      ]
    },
    {
      "cell_type": "markdown",
      "source": [
        "11.  Create a class Person with attributes name and age. Add a method greet() that prints \"Hello, my name is\n",
        "{name} and I am {age} years old.\""
      ],
      "metadata": {
        "id": "-A8jRHtEQtME"
      }
    },
    {
      "source": [
        "class Person:\n",
        "    def __init__(self, name, age):\n",
        "        self.name = name\n",
        "        self.age = age\n",
        "\n",
        "    def greet(self):\n",
        "        print(f\"Hello, my name is {self.name} and I am {self.age} years old.\")\n",
        "\n",
        "# Create a Person object\n",
        "person = Person(\"Ajay\", 21)\n",
        "\n",
        "# Call the greet method\n",
        "person.greet()  # Output: Hello, my name is Ajay and I am 21 years old."
      ],
      "cell_type": "code",
      "metadata": {
        "colab": {
          "base_uri": "https://localhost:8080/"
        },
        "id": "61RSk6NGbV5r",
        "outputId": "01ac5a0a-5f85-4a7d-9c0b-ee9f5572b239"
      },
      "execution_count": 25,
      "outputs": [
        {
          "output_type": "stream",
          "name": "stdout",
          "text": [
            "Hello, my name is Ajay and I am 21 years old.\n"
          ]
        }
      ]
    },
    {
      "cell_type": "markdown",
      "source": [
        "12.  Implement a class Student with attributes name and grades. Create a method average_grade() to compute\n",
        "the average of the grades."
      ],
      "metadata": {
        "id": "_fCLDAg_Qy-X"
      }
    },
    {
      "source": [
        "class Student:\n",
        "    def __init__(self, name, grades):\n",
        "        self.name = name\n",
        "        self.grades = grades\n",
        "\n",
        "    def average_grade(self):\n",
        "        if not self.grades:  # Check if grades list is empty\n",
        "            return 0  # Avoid division by zero\n",
        "        return sum(self.grades) / len(self.grades)\n",
        "\n",
        "# Create a Student object\n",
        "student = Student(\"Ajay\", [90, 80, 75, 92])\n",
        "\n",
        "# Calculate and print the average grade\n",
        "average = student.average_grade()\n",
        "print(f\"{student.name}'s average grade: {average}\")  # Output: Ajay's average grade: 84.25"
      ],
      "cell_type": "code",
      "metadata": {
        "colab": {
          "base_uri": "https://localhost:8080/"
        },
        "id": "LD29U-BTb0kP",
        "outputId": "ea10b307-1045-4cbb-d6c1-d7071caf1464"
      },
      "execution_count": 27,
      "outputs": [
        {
          "output_type": "stream",
          "name": "stdout",
          "text": [
            "Ajay's average grade: 84.25\n"
          ]
        }
      ]
    },
    {
      "cell_type": "markdown",
      "source": [
        "13. Create a class Rectangle with methods set_dimensions() to set the dimensions and area() to calculate the\n",
        "area."
      ],
      "metadata": {
        "id": "HiBVLSxgQ_-n"
      }
    },
    {
      "source": [
        "class Rectangle:\n",
        "    def __init__(self, length=0, width=0):  # Initialize with default values\n",
        "        self.length = length\n",
        "        self.width = width\n",
        "\n",
        "    def set_dimensions(self, length, width):\n",
        "        self.length = length\n",
        "        self.width = width\n",
        "\n",
        "    def area(self):\n",
        "        return self.length * self.width\n",
        "\n",
        "# Create a Rectangle object\n",
        "rectangle = Rectangle()\n",
        "\n",
        "# Set the dimensions\n",
        "rectangle.set_dimensions(6, 9)\n",
        "\n",
        "# Calculate and print the area\n",
        "area = rectangle.area()\n",
        "print(f\"The area of the rectangle is: {area}\")  # Output: The area of the rectangle is: 54"
      ],
      "cell_type": "code",
      "metadata": {
        "colab": {
          "base_uri": "https://localhost:8080/"
        },
        "id": "dw6bUmPYcY3X",
        "outputId": "c7fe0028-b6ea-4f51-8463-9508c83717c3"
      },
      "execution_count": 29,
      "outputs": [
        {
          "output_type": "stream",
          "name": "stdout",
          "text": [
            "The area of the rectangle is: 54\n"
          ]
        }
      ]
    },
    {
      "cell_type": "markdown",
      "source": [
        "14.  Create a class Employee with a method calculate_salary() that computes the salary based on hours worked\n",
        "and hourly rate. Create a derived class Manager that adds a bonus to the salary."
      ],
      "metadata": {
        "id": "5ubfbiOSRGUI"
      }
    },
    {
      "source": [
        "class Employee:\n",
        "    def __init__(self, name, hours_worked, hourly_rate):\n",
        "        self.name = name\n",
        "        self.hours_worked = hours_worked\n",
        "        self.hourly_rate = hourly_rate\n",
        "\n",
        "    def calculate_salary(self):\n",
        "        return self.hours_worked * self.hourly_rate\n",
        "\n",
        "class Manager(Employee):\n",
        "    def __init__(self, name, hours_worked, hourly_rate, bonus):\n",
        "        super().__init__(name, hours_worked, hourly_rate)\n",
        "        self.bonus = bonus\n",
        "\n",
        "    def calculate_salary(self):\n",
        "        base_salary = super().calculate_salary()\n",
        "        return base_salary + self.bonus\n",
        "\n",
        "# Create an Employee object\n",
        "employee = Employee(\"Ajay\", 40, 15)\n",
        "\n",
        "# Create a Manager object\n",
        "manager = Manager(\"Niraj\", 40, 20, 1000)\n",
        "\n",
        "# Calculate and print salaries\n",
        "employee_salary = employee.calculate_salary()\n",
        "manager_salary = manager.calculate_salary()\n",
        "\n",
        "print(f\"{employee.name}'s salary: ${employee_salary}\")  # Output: Ajay's salary: $600\n",
        "print(f\"{manager.name}'s salary: ${manager_salary}\")  # Output: Niraj's salary: $1800"
      ],
      "cell_type": "code",
      "metadata": {
        "colab": {
          "base_uri": "https://localhost:8080/"
        },
        "id": "9o1F3IH-dWPz",
        "outputId": "bd00d468-b9d5-4371-b740-348b38886260"
      },
      "execution_count": 32,
      "outputs": [
        {
          "output_type": "stream",
          "name": "stdout",
          "text": [
            "Ajay's salary: $600\n",
            "Niraj's salary: $1800\n"
          ]
        }
      ]
    },
    {
      "cell_type": "markdown",
      "source": [
        "15. Create a class Product with attributes name, price, and quantity. Implement a method total_price() that\n",
        "calculates the total price of the product."
      ],
      "metadata": {
        "id": "WnTFZBUORXiQ"
      }
    },
    {
      "source": [
        "class Product:\n",
        "    def __init__(self, name, price, quantity):\n",
        "        self.name = name\n",
        "        self.price = price\n",
        "        self.quantity = quantity\n",
        "\n",
        "    def total_price(self):\n",
        "        return self.price * self.quantity\n",
        "\n",
        "# Create a Product object\n",
        "product = Product(\"Laptop\", 1000, 5)\n",
        "\n",
        "# Calculate and print the total price\n",
        "total = product.total_price()\n",
        "print(f\"Total price of {product.name}: ${total}\")  # Output: Total price of Laptop: $5000"
      ],
      "cell_type": "code",
      "metadata": {
        "colab": {
          "base_uri": "https://localhost:8080/"
        },
        "id": "6L_2Jd-UeoFD",
        "outputId": "6c843a78-96a3-4030-9b18-6f2b8711f8b8"
      },
      "execution_count": 34,
      "outputs": [
        {
          "output_type": "stream",
          "name": "stdout",
          "text": [
            "Total price of Laptop: $5000\n"
          ]
        }
      ]
    },
    {
      "cell_type": "markdown",
      "source": [
        "16. Create a class Animal with an abstract method sound(). Create two derived classes Cow and Sheep that\n",
        "implement the sound() method."
      ],
      "metadata": {
        "id": "P-kkz8JvRdOk"
      }
    },
    {
      "source": [
        "from abc import ABC, abstractmethod\n",
        "\n",
        "class Animal(ABC):\n",
        "    @abstractmethod\n",
        "    def sound(self):\n",
        "        pass\n",
        "\n",
        "class Cow(Animal):\n",
        "    def sound(self):\n",
        "        print(\"Moo!\")\n",
        "\n",
        "class Sheep(Animal):\n",
        "    def sound(self):\n",
        "        print(\"Baa!\")\n",
        "\n",
        "# Create objects and call the sound method\n",
        "cow = Cow()\n",
        "sheep = Sheep()\n",
        "\n",
        "cow.sound()  # Output: Moo!\n",
        "sheep.sound() # Output: Baa!"
      ],
      "cell_type": "code",
      "metadata": {
        "colab": {
          "base_uri": "https://localhost:8080/"
        },
        "id": "b_2Evw36e-ZF",
        "outputId": "1db9f0d4-ce95-49fc-b408-cae3036edc11"
      },
      "execution_count": 35,
      "outputs": [
        {
          "output_type": "stream",
          "name": "stdout",
          "text": [
            "Moo!\n",
            "Baa!\n"
          ]
        }
      ]
    },
    {
      "cell_type": "markdown",
      "source": [
        "17. Create a class Book with attributes title, author, and year_published. Add a method get_book_info() that\n",
        "returns a formatted string with the book's details."
      ],
      "metadata": {
        "id": "8HA184q7Riqb"
      }
    },
    {
      "source": [
        "class Book:\n",
        "    def __init__(self, title, author, year_published):\n",
        "        self.title = title\n",
        "        self.author = author\n",
        "        self.year_published = year_published\n",
        "\n",
        "    def get_book_info(self):\n",
        "        return f\"Title: {self.title}, Author: {self.author}, Year Published: {self.year_published}\"\n",
        "\n",
        "# Create a Book object\n",
        "book = Book(\"The Hitchhiker's Guide to the Galaxy\", \"Douglas Adams\", 1979)\n",
        "\n",
        "# Get and print the book's information\n",
        "book_info = book.get_book_info()\n",
        "print(book_info)  # Output: Title: The Hitchhiker's Guide to the Galaxy, Author: Douglas Adams, Year Published: 1979"
      ],
      "cell_type": "code",
      "metadata": {
        "colab": {
          "base_uri": "https://localhost:8080/"
        },
        "id": "vCYdtWo9fdRL",
        "outputId": "e3254b5b-20e5-488c-fe8e-32dcaf41e5ca"
      },
      "execution_count": 36,
      "outputs": [
        {
          "output_type": "stream",
          "name": "stdout",
          "text": [
            "Title: The Hitchhiker's Guide to the Galaxy, Author: Douglas Adams, Year Published: 1979\n"
          ]
        }
      ]
    },
    {
      "cell_type": "markdown",
      "source": [
        "18.  Create a class House with attributes address and price. Create a derived class Mansion that adds an\n",
        "attribute number_of_rooms."
      ],
      "metadata": {
        "id": "HC4CD5acRsvN"
      }
    },
    {
      "source": [
        "class House:\n",
        "    def __init__(self, address, price):\n",
        "        self.address = address\n",
        "        self.price = price\n",
        "\n",
        "class Mansion(House):\n",
        "    def __init__(self, address, price, number_of_rooms):\n",
        "        super().__init__(address, price)\n",
        "        self.number_of_rooms = number_of_rooms\n",
        "\n",
        "# Create a House object\n",
        "house = House(\"123 Main St\", 500000)\n",
        "\n",
        "# Create a Mansion object\n",
        "mansion = Mansion(\"456 Park Ave\", 2000000, 10)\n",
        "\n",
        "# Access attributes\n",
        "print(f\"House address: {house.address}, price: ${house.price}\")\n",
        "# Output: House address: 123 Main St, price: $500000\n",
        "\n",
        "print(f\"Mansion address: {mansion.address}, price: ${mansion.price}, number of rooms: {mansion.number_of_rooms}\")\n",
        "# Output: Mansion address: 456 Park Ave, price: $2000000, number of rooms: 10"
      ],
      "cell_type": "code",
      "metadata": {
        "colab": {
          "base_uri": "https://localhost:8080/"
        },
        "id": "Czi9liWRfsGt",
        "outputId": "c610eed8-cc86-4551-b578-af5e8aef7926"
      },
      "execution_count": 37,
      "outputs": [
        {
          "output_type": "stream",
          "name": "stdout",
          "text": [
            "House address: 123 Main St, price: $500000\n",
            "Mansion address: 456 Park Ave, price: $2000000, number of rooms: 10\n"
          ]
        }
      ]
    },
    {
      "cell_type": "markdown",
      "source": [],
      "metadata": {
        "id": "Y_h-9j6WR-4b"
      }
    }
  ]
}